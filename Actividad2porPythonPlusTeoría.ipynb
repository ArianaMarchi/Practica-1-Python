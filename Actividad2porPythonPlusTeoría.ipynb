{
  "nbformat": 4,
  "nbformat_minor": 0,
  "metadata": {
    "colab": {
      "name": "Actividad2porPythonPlusTeoría",
      "provenance": [],
      "collapsed_sections": []
    },
    "kernelspec": {
      "name": "python3",
      "display_name": "Python 3"
    },
    "language_info": {
      "name": "python"
    }
  },
  "cells": [
    {
      "cell_type": "markdown",
      "metadata": {
        "id": "xkYflXJqdgov"
      },
      "source": [
        "Parte 1\n",
        "\n",
        "Enunciado Asignado:\n",
        "\n",
        "Enunciado 4: dado el archivo de registros de jugadas (eventos) de MemPy, mostrar un gráfico con los 3 (tres) usuarios que más tiempo jugaron el juego (independientemente del resultado de la partida."
      ]
    },
    {
      "cell_type": "code",
      "metadata": {
        "id": "KAZ6jYPspi0X"
      },
      "source": [
        "import pandas as pd\n",
        "import csv\n",
        "import os\n",
        "archivo = pd.read_csv('/datos de prueba (1).csv', encoding='utf-8')\n",
        "archivo"
      ],
      "execution_count": null,
      "outputs": []
    },
    {
      "cell_type": "code",
      "metadata": {
        "id": "Gg9bs0i1GkLF"
      },
      "source": [
        "inicio =archivo[archivo['Nombre de evento']== \"inicio_partida\"][[\"Usuarie - nick\",'Nombre de evento',\"Partida\", \"Tiempo\"]]\n",
        "fin =archivo[archivo['Nombre de evento']== \"fin\"][[\"Usuarie - nick\",'Nombre de evento',\"Partida\", \"Tiempo\"]]\n",
        "merge_inicio_fin = pd.merge(inicio, fin, on=\"Partida\")\n",
        "merge_inicio_fin\n"
      ],
      "execution_count": null,
      "outputs": []
    },
    {
      "cell_type": "code",
      "metadata": {
        "id": "mA0JEgnkS8b4"
      },
      "source": [
        "tiempo_por_usuario = merge_inicio_fin.assign(Duración = merge_inicio_fin['Tiempo_y'] - merge_inicio_fin['Tiempo_x'])\n",
        "tiempo_por_usuario"
      ],
      "execution_count": null,
      "outputs": []
    },
    {
      "cell_type": "code",
      "metadata": {
        "id": "4Ihflk7fUZ6q"
      },
      "source": [
        "tiempo_total = tiempo_por_usuario.groupby([\"Usuarie - nick_x\"])[\"Duración\"].sum()\n",
        "tiempo_total"
      ],
      "execution_count": null,
      "outputs": []
    },
    {
      "cell_type": "code",
      "metadata": {
        "id": "_dT3HG04ZZ5m"
      },
      "source": [
        "from matplotlib import pyplot as plt\n",
        "%matplotlib inline\n",
        "top3 = grupos.sort_values(ascending=False).head(3)\n",
        "top3.plot(kind=\"pie\")\n",
        "plt.title(\"Usuarios que más tiempo jugaron el juego \")"
      ],
      "execution_count": null,
      "outputs": []
    }
  ]
}